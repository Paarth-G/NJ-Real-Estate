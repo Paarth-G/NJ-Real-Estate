{
 "cells": [
  {
   "cell_type": "markdown",
   "id": "14a6572f",
   "metadata": {},
   "source": [
    "<h1>Connecting to Snowflake</h1>"
   ]
  },
  {
   "cell_type": "code",
   "execution_count": 4,
   "id": "48891b6e",
   "metadata": {},
   "outputs": [],
   "source": [
    "#import Snowflake Connector\n",
    "import snowflake.connector"
   ]
  },
  {
   "cell_type": "code",
   "execution_count": null,
   "id": "f3070cac",
   "metadata": {},
   "outputs": [],
   "source": [
    "# Credentials \n",
    "USER = \"paarth21\"\n",
    "PASSWORD = \"Princeton25\"\n",
    "ACCOUNT = \"tr50667\"\n",
    "WAREHOUSE = \"COMPUTE_WH\"\n",
    "DATABASE = \"NJ_REALESTATE_DATA\"\n",
    "SCHEMA = \"CSVDATA\""
   ]
  }
 ],
 "metadata": {
  "kernelspec": {
   "display_name": "Python 3",
   "language": "python",
   "name": "python3"
  },
  "language_info": {
   "codemirror_mode": {
    "name": "ipython",
    "version": 3
   },
   "file_extension": ".py",
   "mimetype": "text/x-python",
   "name": "python",
   "nbconvert_exporter": "python",
   "pygments_lexer": "ipython3",
   "version": "3.8.8"
  }
 },
 "nbformat": 4,
 "nbformat_minor": 5
}
